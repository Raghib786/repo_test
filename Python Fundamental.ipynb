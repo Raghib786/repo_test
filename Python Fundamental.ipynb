{
 "cells": [
  {
   "cell_type": "code",
   "execution_count": 5,
   "metadata": {},
   "outputs": [],
   "source": [
    "#Variable\n",
    "weight = 64\n",
    "height = 11.5\n"
   ]
  },
  {
   "cell_type": "code",
   "execution_count": 8,
   "metadata": {},
   "outputs": [
    {
     "name": "stdout",
     "output_type": "stream",
     "text": [
      "5.0\n"
     ]
    }
   ],
   "source": [
    "#Calculating BMI\n",
    "bmi = weight//(height*height)\n",
    "print(bmi)"
   ]
  },
  {
   "cell_type": "code",
   "execution_count": 17,
   "metadata": {},
   "outputs": [],
   "source": [
    "z = \"GOA to Leh\""
   ]
  },
  {
   "cell_type": "code",
   "execution_count": 31,
   "metadata": {},
   "outputs": [
    {
     "name": "stdout",
     "output_type": "stream",
     "text": [
      "GOA to Leh\n",
      "GOA to Leh\n",
      "GOA to Leh\n"
     ]
    }
   ],
   "source": [
    "rightAlign =  z.rjust(100)\n",
    "leftAlign = z.ljust(100)\n",
    "centerAlign = z.center(100)\n",
    "print(leftAlign.rstrip())\n",
    "print(rightAlign.lstrip())\n",
    "print(centerAlign.strip())"
   ]
  },
  {
   "cell_type": "markdown",
   "metadata": {},
   "source": [
    "z[2:5]"
   ]
  },
  {
   "cell_type": "code",
   "execution_count": null,
   "metadata": {},
   "outputs": [],
   "source": [
    "z[-9:-5]"
   ]
  },
  {
   "cell_type": "code",
   "execution_count": null,
   "metadata": {},
   "outputs": [],
   "source": [
    "String Operations"
   ]
  },
  {
   "cell_type": "code",
   "execution_count": 32,
   "metadata": {},
   "outputs": [],
   "source": [
    "day1 = \"R class in the morning\"\n",
    "day2 = \"Python\""
   ]
  },
  {
   "cell_type": "code",
   "execution_count": 33,
   "metadata": {},
   "outputs": [
    {
     "name": "stdout",
     "output_type": "stream",
     "text": [
      "I had R class in the morning and Python\n",
      "39\n",
      "r class in the morning\n",
      "PYTHON\n",
      "I had r class in the morning and python\n",
      "I Had R Class In The Morning And Python\n",
      "        R class in the morningPython                                  I had R class in the morning and Python           \n",
      "hon\n",
      "Python class in the morning\n"
     ]
    },
    {
     "data": {
      "text/plain": [
       "' the '"
      ]
     },
     "execution_count": 33,
     "metadata": {},
     "output_type": "execute_result"
    }
   ],
   "source": [
    "today  = \"I had \" + day1 + \" and \" + day2\n",
    "print(today)\n",
    "print(len(today))\n",
    "print(day1.lower())\n",
    "print(day2.upper())\n",
    "print(today.capitalize())\n",
    "print(today.title())\n",
    "newday = day1.rjust(30) + day2.ljust(30) + today.center(60)\n",
    "print(newday)\n",
    "newday.replace(\"R\",\"Python\")\n",
    "newday.replace(\"Py\",\"@\")\n",
    "print(day2[-3:])\n",
    "day1[2:]\n",
    "day2 = day2 + \" \" + day1[2:]\n",
    "print(day2)\n",
    "day2[-12:-7]"
   ]
  },
  {
   "cell_type": "markdown",
   "metadata": {},
   "source": [
    "Tuples:\n",
    "* Tuple is like a list but it is immutable(cannot be changed)0\n",
    "* Tuple uses parenthesis"
   ]
  },
  {
   "cell_type": "code",
   "execution_count": 27,
   "metadata": {},
   "outputs": [
    {
     "name": "stdout",
     "output_type": "stream",
     "text": [
      "3\n",
      "6\n"
     ]
    }
   ],
   "source": [
    "x  = [[1,2,3,4],3, 5]\n",
    "print(len(x))\n",
    "y=[6,7,8]\n",
    "#x[0][1:4] = [5,6,7,8,9]\n",
    "x += y\n",
    "print(len(x))"
   ]
  },
  {
   "cell_type": "code",
   "execution_count": 49,
   "metadata": {},
   "outputs": [],
   "source": [
    "emp_id = [1,2,3,4]\n",
    "emp_name = [\"Raj\",\"Sammy\",\"Zeba\",\"Rahul\"]\n",
    "emp_num = 4\n",
    "emp_age = [40,35,45,30]"
   ]
  },
  {
   "cell_type": "code",
   "execution_count": 50,
   "metadata": {},
   "outputs": [
    {
     "name": "stdout",
     "output_type": "stream",
     "text": [
      "[[1, 2, 3, 4, 5], ['Raj', 'Sammy', 'Zeba', 'Rahul', 'Noman'], 4, [40, 35, 45, 30]]\n"
     ]
    }
   ],
   "source": [
    "emp_list = [emp_id,emp_name,emp_num]\n",
    "emp_list[0].append(5)\n",
    "emp_list[1].append(\"Noman\")\n",
    "emp_list.append(emp_age)\n",
    "print(emp_list)"
   ]
  },
  {
   "cell_type": "code",
   "execution_count": 5,
   "metadata": {},
   "outputs": [
    {
     "data": {
      "text/plain": [
       "list"
      ]
     },
     "execution_count": 5,
     "metadata": {},
     "output_type": "execute_result"
    }
   ],
   "source": [
    "type(x)"
   ]
  },
  {
   "cell_type": "code",
   "execution_count": null,
   "metadata": {},
   "outputs": [],
   "source": [
    "7/3"
   ]
  },
  {
   "cell_type": "code",
   "execution_count": null,
   "metadata": {},
   "outputs": [],
   "source": [
    "d = {\"Shahrukh\",\"Salman\",\"John\",\"Salman\",5,(1,2,3)}\n",
    "d"
   ]
  },
  {
   "cell_type": "code",
   "execution_count": null,
   "metadata": {},
   "outputs": [],
   "source": [
    "d[\"producer\"] = (\"Sajid\",\"Himesh\")\n",
    "d"
   ]
  },
  {
   "cell_type": "code",
   "execution_count": null,
   "metadata": {},
   "outputs": [],
   "source": [
    "d[\"producer\"] = \"Ramy\"\n",
    "d"
   ]
  },
  {
   "cell_type": "code",
   "execution_count": null,
   "metadata": {},
   "outputs": [],
   "source": [
    "for i in d:\n",
    "    print(i)\n",
    "    print(type(i))"
   ]
  },
  {
   "cell_type": "code",
   "execution_count": null,
   "metadata": {},
   "outputs": [],
   "source": [
    "c = 1,2,3\n",
    "b = c\n",
    "c = 1,2,4"
   ]
  },
  {
   "cell_type": "code",
   "execution_count": null,
   "metadata": {},
   "outputs": [],
   "source": [
    "x = 4\n",
    "y = 8\n",
    "print(x + y)"
   ]
  },
  {
   "cell_type": "markdown",
   "metadata": {},
   "source": [
    "Combine dict_values"
   ]
  },
  {
   "cell_type": "code",
   "execution_count": null,
   "metadata": {},
   "outputs": [],
   "source": [
    "d_list = [{\"a\":2, \"b\":3, \"c\":5},\n",
    "          {\"a\":7, \"b\":4, \"c\":9},\n",
    "          {\"a\":5, \"d\":7, \"c\":1}]"
   ]
  },
  {
   "cell_type": "code",
   "execution_count": null,
   "metadata": {},
   "outputs": [],
   "source": [
    "def my_fun(a_list):\n",
    "    result = {}\n",
    "    for i in a_list:\n",
    "        print(i)\n",
    "        print(type(i))\n",
    "        for k,v in i.items():\n",
    "            print(\"if key is : '\" + str(k) + \"' Value is :\" + str(v))\n",
    "            if k in result:\n",
    "                result[k] += v\n",
    "            else:\n",
    "                result[k] = v\n",
    "    return result"
   ]
  },
  {
   "cell_type": "code",
   "execution_count": null,
   "metadata": {},
   "outputs": [],
   "source": [
    "my_fun(d_list)"
   ]
  },
  {
   "cell_type": "markdown",
   "metadata": {},
   "source": [
    "Get_average_report"
   ]
  },
  {
   "cell_type": "code",
   "execution_count": null,
   "metadata": {},
   "outputs": [],
   "source": [
    "reports  = [\"Anna, 50, 92, 80\", \"Bill, 60, 70\", \"Cal, 98.5,100,95.5,98\"]"
   ]
  },
  {
   "cell_type": "code",
   "execution_count": null,
   "metadata": {},
   "outputs": [],
   "source": [
    "def get_avg(a_list):\n",
    "    result = []\n",
    "    for i in a_list:\n",
    "        grades = i.split(\",\")[1:]\n",
    "        new_list = [float(i) for i in grades]\n",
    "        avg = sum(new_list)/len(new_list)\n",
    "        result.append(avg)        \n",
    "    return result"
   ]
  },
  {
   "cell_type": "code",
   "execution_count": null,
   "metadata": {},
   "outputs": [],
   "source": [
    "get_avg(reports)"
   ]
  },
  {
   "cell_type": "markdown",
   "metadata": {},
   "source": [
    "Sum of Digits"
   ]
  },
  {
   "cell_type": "code",
   "execution_count": null,
   "metadata": {},
   "outputs": [],
   "source": [
    "def sumDigit(num):\n",
    "    sum = 0\n",
    "    num = str(num)\n",
    "    if len(new_num) == 1:\n",
    "        sum += int(new_num)\n",
    "        return sum\n",
    "    else:\n",
    "        return sumDigit(num/10)\n",
    "    return sum\n",
    "\n",
    "sumDigit(1234)"
   ]
  },
  {
   "cell_type": "code",
   "execution_count": null,
   "metadata": {},
   "outputs": [],
   "source": [
    "fas = [\"10\", \"30\", \"5\"]\n",
    "new_list = list(map(float,fas))\n",
    "F = list(map(lambda x: x/5,new_list))\n",
    "print(F)\n",
    "\n",
    "list(filter(lambda x: x%2 ==0, range(0,100)))"
   ]
  },
  {
   "cell_type": "code",
   "execution_count": null,
   "metadata": {},
   "outputs": [],
   "source": [
    "def sumD(num):\n",
    "    if num < 10:\n",
    "        return num\n",
    "    result = 0\n",
    "    num = str(num)\n",
    "    for i in num:\n",
    "        result += int(i)\n",
    "    \n",
    "    return sumD(result)\n",
    "\n",
    "sumD(2323424321)"
   ]
  },
  {
   "cell_type": "code",
   "execution_count": null,
   "metadata": {},
   "outputs": [],
   "source": [
    "a_list = [1,1,1,0,1,0,1,1,0,1,1,1,1,0]"
   ]
  },
  {
   "cell_type": "code",
   "execution_count": null,
   "metadata": {},
   "outputs": [],
   "source": [
    "lambda x, x.split                "
   ]
  },
  {
   "cell_type": "markdown",
   "metadata": {},
   "source": [
    "Swap largest element with last element"
   ]
  },
  {
   "cell_type": "code",
   "execution_count": null,
   "metadata": {},
   "outputs": [],
   "source": [
    "def swapL(a_list):\n",
    "    m = a_list.index(max(a_list))\n",
    "    print(m)\n",
    "    #l = a_list.index(a_list[-1])\n",
    "    #print(l)\n",
    "    temp = a_list[-1]\n",
    "    a_list[-1] = a_list[m]\n",
    "    a_list[m] = temp\n",
    "    \n",
    "    return a_list\n",
    "\n"
   ]
  },
  {
   "cell_type": "code",
   "execution_count": null,
   "metadata": {},
   "outputs": [],
   "source": [
    "def remDup(a_list):\n",
    "    return list(set(a_list))"
   ]
  },
  {
   "cell_type": "code",
   "execution_count": null,
   "metadata": {},
   "outputs": [],
   "source": [
    "newList = [2,3,9,4,5,10,1,6,2]\n",
    "remDup(a_list)"
   ]
  },
  {
   "cell_type": "code",
   "execution_count": null,
   "metadata": {},
   "outputs": [],
   "source": [
    "#Defining a class\n",
    "\n",
    "\n",
    "class Circle:\n",
    "    def __init__(self,radius=5):\n",
    "        self.r = radius\n",
    "    \n",
    "    def area(self):\n",
    "        self.a  = self.r**2*3.14\n",
    "        \n",
    "        return self.a\n",
    "    \n",
    "    def perimeter(self):\n",
    "        self.p = 2*3.14*self.r\n",
    "        \n",
    "        return self.p\n",
    "    \n",
    "    def sumr(self):\n",
    "        return self.a + self.p\n",
    "    "
   ]
  },
  {
   "cell_type": "code",
   "execution_count": null,
   "metadata": {},
   "outputs": [],
   "source": [
    "c1 = Circle(6)\n",
    "c2 = Circle(4)\n",
    "print(c1.area(), c1.perimeter())\n",
    "print(c2.area(), c2.perimeter())\n",
    "print(c1.sumr(), c2.sumr())"
   ]
  },
  {
   "cell_type": "code",
   "execution_count": null,
   "metadata": {},
   "outputs": [],
   "source": [
    "import math\n",
    "\n",
    "class Point:\n",
    "    \n",
    "    def __init__(self,x,y):\n",
    "        '''Defines x and y variables'''\n",
    "        self.X = x\n",
    "        self.Y = y\n",
    "    \n",
    "    # Calculating length\n",
    "    \n",
    "    def length(self):\n",
    "        return(math.sqrt(self.X**2 + self.Y**2))\n",
    "    \n",
    "    # Calculating Distance\n",
    "    def distance(self,other):\n",
    "        dx = self.X - other.X\n",
    "        dy = self.Y - other.Y\n",
    "        return(math.sqrt(dx**2 + dy**2))\n",
    "    \n",
    "    "
   ]
  },
  {
   "cell_type": "code",
   "execution_count": null,
   "metadata": {},
   "outputs": [],
   "source": [
    "point1 = Point(4,5)\n",
    "point2 = Point(2,3)\n",
    "point1 = Circle(3)\n",
    "print(point1.X,point2.Y)\n",
    "print(point1.length())\n",
    "print(point2.length())\n",
    "print(point1.distance(point2))"
   ]
  },
  {
   "cell_type": "code",
   "execution_count": null,
   "metadata": {},
   "outputs": [],
   "source": [
    "pip install numpy"
   ]
  },
  {
   "cell_type": "code",
   "execution_count": 1,
   "metadata": {},
   "outputs": [],
   "source": [
    "import numpy as np"
   ]
  },
  {
   "cell_type": "code",
   "execution_count": 39,
   "metadata": {},
   "outputs": [
    {
     "data": {
      "text/plain": [
       "numpy.ndarray"
      ]
     },
     "execution_count": 39,
     "metadata": {},
     "output_type": "execute_result"
    }
   ],
   "source": [
    "arr = np.array([[1,2.,3,4],\n",
    "              [5,6,7,8],\n",
    "                [11,12,13,15]]).reshape(4,3)\n",
    "\n",
    "type(arr)"
   ]
  },
  {
   "cell_type": "code",
   "execution_count": 26,
   "metadata": {},
   "outputs": [
    {
     "data": {
      "text/plain": [
       "array([ 1.,  2.,  3.,  4.,  5.,  6.,  7.,  8., 11., 12., 13., 15.])"
      ]
     },
     "execution_count": 26,
     "metadata": {},
     "output_type": "execute_result"
    }
   ],
   "source": [
    "arr.reshape(12,)"
   ]
  },
  {
   "cell_type": "code",
   "execution_count": 41,
   "metadata": {},
   "outputs": [
    {
     "data": {
      "text/plain": [
       "array([[ 1.,  2.,  3.],\n",
       "       [ 4.,  5.,  6.],\n",
       "       [ 7.,  8., 11.],\n",
       "       [12., 13., 15.]])"
      ]
     },
     "execution_count": 41,
     "metadata": {},
     "output_type": "execute_result"
    }
   ],
   "source": [
    "arr"
   ]
  },
  {
   "cell_type": "code",
   "execution_count": 45,
   "metadata": {},
   "outputs": [
    {
     "data": {
      "text/plain": [
       "array([[ 2.,  3.],\n",
       "       [ 5.,  6.],\n",
       "       [ 8., 11.],\n",
       "       [13., 15.]])"
      ]
     },
     "execution_count": 45,
     "metadata": {},
     "output_type": "execute_result"
    }
   ],
   "source": [
    "arr[:,1:3]"
   ]
  },
  {
   "cell_type": "code",
   "execution_count": 36,
   "metadata": {},
   "outputs": [
    {
     "data": {
      "text/plain": [
       "dtype('int64')"
      ]
     },
     "execution_count": 36,
     "metadata": {},
     "output_type": "execute_result"
    }
   ],
   "source": [
    "temp.dtype"
   ]
  }
 ],
 "metadata": {
  "kernelspec": {
   "display_name": "Python 3",
   "language": "python",
   "name": "python3"
  },
  "language_info": {
   "codemirror_mode": {
    "name": "ipython",
    "version": 3
   },
   "file_extension": ".py",
   "mimetype": "text/x-python",
   "name": "python",
   "nbconvert_exporter": "python",
   "pygments_lexer": "ipython3",
   "version": "3.7.3"
  }
 },
 "nbformat": 4,
 "nbformat_minor": 2
}
